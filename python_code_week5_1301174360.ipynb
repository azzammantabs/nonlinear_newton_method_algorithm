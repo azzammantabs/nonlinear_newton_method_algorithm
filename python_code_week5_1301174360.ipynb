{
  "nbformat": 4,
  "nbformat_minor": 0,
  "metadata": {
    "colab": {
      "name": "week5_1301174360.ipynb",
      "provenance": []
    },
    "kernelspec": {
      "name": "python3",
      "display_name": "Python 3"
    }
  },
  "cells": [
    {
      "cell_type": "markdown",
      "metadata": {
        "id": "f7rHh8AaEqhj"
      },
      "source": [
        "**NEWTON'S ALGORITHM**\n",
        "\n",
        "<center><img src = \"https://i.imgur.com/oMGO0Ru.png\" align = \"center\"> </center>\n"
      ]
    },
    {
      "cell_type": "markdown",
      "metadata": {
        "id": "MV8MITZfnLCw"
      },
      "source": [
        "**Example 1**\n",
        "\n",
        "Please solve the following problem using Newton Method\n",
        "\n",
        "\\begin{align}\n",
        "4x_1^2 - 20x_1 + \\frac{1}{4}x_2^2 + 8 =0\\\\\n",
        "\\frac{1}{2}x_1x_2^2 + 2x_1 - 5x_2 + 8 =0\n",
        "\\end{align}\n",
        "\n",
        "use $\\mathbf{x}^0 =(0,0)^t$\n"
      ]
    },
    {
      "cell_type": "markdown",
      "metadata": {
        "id": "okL7mNcun90F"
      },
      "source": [
        "First define function F(X)"
      ]
    },
    {
      "cell_type": "code",
      "metadata": {
        "id": "O_kmew7tn-c6",
        "outputId": "5ee67d8a-686c-4fa3-e055-fb7334643894",
        "colab": {
          "base_uri": "https://localhost:8080/",
          "height": 34
        }
      },
      "source": [
        "import numpy as np\n",
        "\n",
        "def F(X):\n",
        "  f1 =  4*X[0]**2 - 20*X[0] + (1/4)*X[1]**2 + 8\n",
        "  f2 = (1/2)*X[0]*X[1]**2 + 2*X[0] - 5*X[1] + 8  \n",
        "  return [f1, f2]\n",
        "\n",
        "x = [0, 0]\n",
        "example = F(x)\n",
        "example"
      ],
      "execution_count": 108,
      "outputs": [
        {
          "output_type": "execute_result",
          "data": {
            "text/plain": [
              "[8.0, 8.0]"
            ]
          },
          "metadata": {
            "tags": []
          },
          "execution_count": 108
        }
      ]
    },
    {
      "cell_type": "markdown",
      "metadata": {
        "id": "1iB5DLImoZzC"
      },
      "source": [
        "Define Jacobian Matrix"
      ]
    },
    {
      "cell_type": "code",
      "metadata": {
        "id": "wosQCm9XobJS",
        "outputId": "f4a25cbd-4c55-4fb9-a970-afcc8185b240",
        "colab": {
          "base_uri": "https://localhost:8080/",
          "height": 34
        }
      },
      "source": [
        "def J(X):\n",
        "   a11 = 8*X[0] - 20\n",
        "   a12 = (1/2)*X[1]\n",
        "   a21 = (1/2)*X[1]**2 + 2\n",
        "   a22 = X[0]*X[1] - 5\n",
        "\n",
        "   return [[a11, a12],[a21, a22]]\n",
        "\n",
        "exp = J(x)\n",
        "exp  \n",
        "\n"
      ],
      "execution_count": 109,
      "outputs": [
        {
          "output_type": "execute_result",
          "data": {
            "text/plain": [
              "[[-20, 0.0], [2.0, -5]]"
            ]
          },
          "metadata": {
            "tags": []
          },
          "execution_count": 109
        }
      ]
    },
    {
      "cell_type": "markdown",
      "metadata": {
        "id": "vOErKguZo9JU"
      },
      "source": [
        "Define the error $||\\mathbf{x}^{(k)} - \\mathbf{x}^{(k-1)}||_{\\infty}= \\displaystyle \\min_k \\{|\\mathbf{x}^{(k)} - \\mathbf{x}^{(k-1)}| \\} < \\epsilon$\n",
        "\n",
        "---\n",
        "\n"
      ]
    },
    {
      "cell_type": "code",
      "metadata": {
        "id": "0u0xXNPGo-oP"
      },
      "source": [
        "def error(X, X1):\n",
        "  return  min(np.absolute(X-X1))"
      ],
      "execution_count": 110,
      "outputs": []
    },
    {
      "cell_type": "markdown",
      "metadata": {
        "id": "OCYvJproo9r1"
      },
      "source": [
        "Define input problem $\\mathbf{x}^0$, $TOL$ and $N$ iteration"
      ]
    },
    {
      "cell_type": "code",
      "metadata": {
        "id": "LnFWPq0ipFUR"
      },
      "source": [
        "x = [0., 0.]\n",
        "TOL = 0.00001\n",
        "N = 200"
      ],
      "execution_count": 111,
      "outputs": []
    },
    {
      "cell_type": "markdown",
      "metadata": {
        "id": "qyyfv-ExpI_Q"
      },
      "source": [
        "Program the algorithm such that the results is given as the following table"
      ]
    },
    {
      "cell_type": "code",
      "metadata": {
        "id": "OI2XJagGpLt_",
        "outputId": "43dd7206-78e5-4d1d-8d07-4739665f9722",
        "colab": {
          "base_uri": "https://localhost:8080/",
          "height": 319
        }
      },
      "source": [
        "#step 1\n",
        "k= 1\n",
        "xold=np.ones(len(x))\n",
        "\n",
        "print('iteration: ', k)\n",
        "print('error: ',error(x,xold))\n",
        "print(x)\n",
        "\n",
        "#Step 2 \n",
        "while (k<=N) and (error(x,xold)>TOL): \n",
        "  #step 3\n",
        "  Fx = F(x)\n",
        "  Jac = J(x)\n",
        "  #step 4\n",
        "  y = np.linalg.inv(Jac)@(Fx)\n",
        "  xold = x\n",
        "  #step 5\n",
        "  x = x-y\n",
        "  #step 6\n",
        "  k = k +1\n",
        "  print('iteration: ', k)\n",
        "  print('error: ',error(x,xold)) \n",
        "  print(x)\n",
        "\n"
      ],
      "execution_count": 112,
      "outputs": [
        {
          "output_type": "stream",
          "text": [
            "iteration:  1\n",
            "error:  1.0\n",
            "[0.0, 0.0]\n",
            "iteration:  2\n",
            "error:  0.4\n",
            "[0.4  1.76]\n",
            "iteration:  3\n",
            "error:  0.09589361055293155\n",
            "[0.49589361 1.98342347]\n",
            "iteration:  4\n",
            "error:  0.004094003971733762\n",
            "[0.49998761 1.99993705]\n",
            "iteration:  5\n",
            "error:  1.238532588371255e-05\n",
            "[0.5 2. ]\n",
            "iteration:  6\n",
            "error:  1.4945089610307605e-10\n",
            "[0.5 2. ]\n"
          ],
          "name": "stdout"
        }
      ]
    },
    {
      "cell_type": "markdown",
      "metadata": {
        "id": "QuQSnlTRWY5Q"
      },
      "source": [
        "**Example 2**\n",
        "\n",
        "<center><img src = \"https://i.imgur.com/XXNqRaD.png\" align = \"center\"> </center>"
      ]
    },
    {
      "cell_type": "markdown",
      "metadata": {
        "id": "HEjXxAkNYdaH"
      },
      "source": [
        "First define function F(X)"
      ]
    },
    {
      "cell_type": "code",
      "metadata": {
        "id": "Kpbdt4GiVbat"
      },
      "source": [
        "import numpy as np\n",
        "import pandas as pd\n",
        "import sys\n",
        "\n",
        "epsilon = sys.float_info.epsilon\n",
        "\n",
        "def F(X):\n",
        "  f1 = 3*X[0] - np.cos(X[1]*X[2]) - (1/2)\n",
        "  f2 = X[0]**2 - 81*(X[1] + 0.1)**2 + np.sin(X[2]) + 1.06\n",
        "  f3 = (epsilon**(-X[0]*X[1])) + 20*X[2] + ((10*np.pi - 3)/3)\n",
        "  return[f1,f2,f3]\n"
      ],
      "execution_count": 113,
      "outputs": []
    },
    {
      "cell_type": "markdown",
      "metadata": {
        "id": "RBGrCZblbT4g"
      },
      "source": [
        "Define Jacobian Matrix"
      ]
    },
    {
      "cell_type": "code",
      "metadata": {
        "id": "xoqQaml5bXLU"
      },
      "source": [
        "def J(X):\n",
        "  a11 = 3 \n",
        "  a12 = 2*X[0]\n",
        "  a13 = -X[1]*(epsilon**(-X[0]*X[1]))\n",
        "  a21 = np.sin(X[1]*X[2])\n",
        "  a22 = -162*X[1] - 16.2\n",
        "  a23 = -X[0]*(epsilon**(-X[0]*X[1])) \n",
        "  a31 = np.sin(X[1]*X[2])\n",
        "  a32 = np.cos(X[2]) \n",
        "  a33 = 20\n",
        "  return [[a11, a12, a13],[a21, a22, a23], [a31, a32, a33]]"
      ],
      "execution_count": 114,
      "outputs": []
    },
    {
      "cell_type": "markdown",
      "metadata": {
        "id": "VMjiXLX8dLO9"
      },
      "source": [
        "Define the error $||\\mathbf{x}^{(k)} - \\mathbf{x}^{(k-1)}||_{\\infty}= \\displaystyle \\min_k \\{|\\mathbf{x}^{(k)} - \\mathbf{x}^{(k-*1*)}| \\} < \\epsilon$"
      ]
    },
    {
      "cell_type": "code",
      "metadata": {
        "id": "4qoIGmoYdVnA"
      },
      "source": [
        "def error(X, X1):\n",
        "  return min(np.absolute(X-X1))"
      ],
      "execution_count": 115,
      "outputs": []
    },
    {
      "cell_type": "markdown",
      "metadata": {
        "id": "hhoMnAMAcpe8"
      },
      "source": [
        "Define input problem $\\mathbf{x}^0$, $TOL$ and $N$ iteration"
      ]
    },
    {
      "cell_type": "code",
      "metadata": {
        "id": "qvNNc5Xdczij"
      },
      "source": [
        "x = [0.1, 0.1, -0.1]\n",
        "TOL = 0.0001\n",
        "N = 200"
      ],
      "execution_count": 116,
      "outputs": []
    },
    {
      "cell_type": "markdown",
      "metadata": {
        "id": "mDhnzIFWc95g"
      },
      "source": [
        "Program the algorithm such that the results is given as the following table\n",
        "\n",
        "<center><img src = \"https://i.imgur.com/QRvdWEO.png\" align = \"center\"> </center>"
      ]
    },
    {
      "cell_type": "code",
      "metadata": {
        "id": "9yfq_Mk1duNg",
        "outputId": "e999daf1-e8df-4f40-bd3a-50fbca2c100d",
        "colab": {
          "base_uri": "https://localhost:8080/",
          "height": 571
        }
      },
      "source": [
        "#step 1\n",
        "data = []\n",
        "k = 1\n",
        "xold=np.ones(len(x))\n",
        "\n",
        "print('iteration: ', k)\n",
        "print('error: ',error(x,xold))\n",
        "print(x)\n",
        "data.append(x)\n",
        "#Step 2 \n",
        "while (k<=N) and (error(x,xold)>TOL):\n",
        "  #step 3\n",
        "  Fx = F(x)\n",
        "  Jac = J(x)\n",
        "  #step 4\n",
        "  y = np.linalg.inv(Jac)@(Fx)\n",
        "  xold = x\n",
        "  #step 5\n",
        "  x = x-y\n",
        "  #step 6\n",
        "  k = k+1\n",
        "  print('iteration: ', k)\n",
        "  print('error: ',error(x,xold)) \n",
        "  print(x)\n",
        "  data.append(x)\n",
        "\n",
        "print(pd.DataFrame(data, columns=['x1','x2','x3']))"
      ],
      "execution_count": 117,
      "outputs": [
        {
          "output_type": "stream",
          "text": [
            "iteration:  1\n",
            "error:  0.9\n",
            "[0.1, 0.1, -0.1]\n",
            "iteration:  2\n",
            "error:  0.0682200053236177\n",
            "[ 0.48341821  0.03177999 -0.54171087]\n",
            "iteration:  3\n",
            "error:  0.017620813074316954\n",
            "[ 0.50889751  0.00301095 -0.55933169]\n",
            "iteration:  4\n",
            "error:  0.005330505461286043\n",
            "[ 0.50184311 -0.00231956 -0.52621256]\n",
            "iteration:  5\n",
            "error:  0.0021815476493319734\n",
            "[ 4.99266497e-01 -1.38007690e-04 -5.21638503e-01]\n",
            "iteration:  6\n",
            "error:  0.0002546646003129362\n",
            "[ 4.99915320e-01  1.16656910e-04 -5.23485797e-01]\n",
            "iteration:  7\n",
            "error:  0.00010918380759869746\n",
            "[ 5.00036379e-01  7.47310241e-06 -5.23699258e-01]\n",
            "iteration:  8\n",
            "error:  1.3510236147527085e-05\n",
            "[ 5.00004504e-01 -6.03713373e-06 -5.23604926e-01]\n",
            "         x1        x2        x3\n",
            "0  0.100000  0.100000 -0.100000\n",
            "1  0.483418  0.031780 -0.541711\n",
            "2  0.508898  0.003011 -0.559332\n",
            "3  0.501843 -0.002320 -0.526213\n",
            "4  0.499266 -0.000138 -0.521639\n",
            "5  0.499915  0.000117 -0.523486\n",
            "6  0.500036  0.000007 -0.523699\n",
            "7  0.500005 -0.000006 -0.523605\n"
          ],
          "name": "stdout"
        }
      ]
    },
    {
      "cell_type": "markdown",
      "metadata": {
        "id": "w6hSrKItmb9I"
      },
      "source": [
        "# Exercise\n",
        "\n",
        "<center><img src = \"https://i.imgur.com/a7Lkz1K.png\" align = \"center\"> </center>\n"
      ]
    }
  ]
}